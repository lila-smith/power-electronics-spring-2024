{
 "cells": [
  {
   "cell_type": "markdown",
   "metadata": {},
   "source": [
    "## Prelab 6"
   ]
  },
  {
   "cell_type": "code",
   "execution_count": 2,
   "metadata": {},
   "outputs": [],
   "source": [
    "# %matplotlib widget\n",
    "# Imports and setup\n",
    "from pint import UnitRegistry\n",
    "import math\n",
    "import numpy as np \n",
    "import matplotlib.pyplot as plt\n",
    "import pandas as pd\n",
    "import scipy\n",
    "\n",
    "# Use pint\n",
    "units = UnitRegistry()\n",
    "units.default_format = \"~P\"\n",
    "\n",
    "# Define Tesla\n",
    "ureg = UnitRegistry()\n",
    "ureg.setup_matplotlib()\n",
    "Q_ = ureg.Quantity"
   ]
  },
  {
   "cell_type": "code",
   "execution_count": 20,
   "metadata": {},
   "outputs": [],
   "source": [
    "# Known values\n",
    "# L_goal = 20*10**(-6) * units.henry\n",
    "B_max = 0.3 * units.tesla\n",
    "D_max = 0.35 # Duty Cycle Max\n",
    "I_rms_cu = 10 * units.amp / (units.mm)**2 # rms\n",
    "Vo = 10 * units.volt\n",
    "Vg = 18 * units.volt\n",
    "alpha = 0.8\n",
    "Ro = 5 * units.ohm\n",
    "Mo = Vo/Vg\n",
    "\n",
    "# A_cmin = 59.1 * (units.mm)**2\n",
    "# A_coil = (11.1/2 * units.mm)**2 * math.pi\n",
    "\n",
    "\n",
    "Lg_inches = np.array([0.002, 0.003, 0.004, 0.005, 0.006, 0.007, 0.008, 0.009, 0.01,\n",
    "                      0.011, 0.012, 0.013, 0.014, 0.015, 0.016, 0.017, 0.018, 0.019,\n",
    "                      0.020, 0.021, 0.022, 0.023, 0.024, 0.025, 0.026, 0.027]) # inches\n",
    "\n",
    "Lg = Lg_inches*25.4*units.mm\n",
    "\n",
    "wires = {\n",
    "    0.82 * (units.mm)**2: 18,\n",
    "    0.52 * (units.mm)**2: 20,\n",
    "    0.33 * (units.mm)**2: 22,\n",
    "    0.20 * (units.mm)**2: 24 \n",
    "} # mm^2: awg\n",
    "\n",
    "# u_o = 1.2566 * 10**(-6) * units.newton/(units.amp)**2  # free space (we only need this value)\n",
    "# u_r = 3300 * 10**(-6) * units.newton/(units.amp)**2"
   ]
  },
  {
   "cell_type": "code",
   "execution_count": 31,
   "metadata": {},
   "outputs": [
    {
     "name": "stdout",
     "output_type": "stream",
     "text": [
      "Our transformer turn ratio is 1:a, where a is 0.864170144444311.\n",
      "Min wire gauge: 22\n"
     ]
    }
   ],
   "source": [
    "# Current calculation and wire sizing\n",
    "\n",
    "a = (Vo/Vg) * (np.sqrt(alpha) - D_max)/D_max\n",
    "print(f\"Our transformer turn ratio is 1:a, where a is {a}.\")\n",
    "M = Mo/a\n",
    "R = Ro/(a**2)\n",
    "V = Vo/a\n",
    "\n",
    "\n",
    "I_pk = 2/np.sqrt(alpha) * (M+1) * (V/R)\n",
    "Io_pk = I_pk / a\n",
    "\n",
    "I_rms = math.sqrt(D_max/3) * I_pk\n",
    "Io_rms = math.sqrt(D_max/3) * Io_pk\n",
    "\n",
    "min_wire_area = max([I_rms/I_rms_cu, Io_rms/I_rms_cu])\n",
    "wire_gauge=0\n",
    "\n",
    "for area in wires:\n",
    "    if area > min_wire_area:\n",
    "        wire_gauge = wires[area]\n",
    "        \n",
    "print(\"Min wire gauge:\", wire_gauge)"
   ]
  },
  {
   "cell_type": "code",
   "execution_count": null,
   "metadata": {},
   "outputs": [],
   "source": [
    "# Calculate flux max and relevant values\n",
    "phi_max = A_cmin * B_max\n",
    "print(\"Phi_max:\", phi_max)\n",
    "min_turns = ((L_goal*I_pk)/phi_max).to_base_units()\n",
    "print(\"Min turns:\", math.ceil(min_turns), \"turns (note:this was run with i_rms rather than i_pk, so it was an undercount)\")\n",
    "\n",
    "W_max = 0.5 * L_goal * I_pk**2"
   ]
  }
 ],
 "metadata": {
  "kernelspec": {
   "display_name": "Python 3",
   "language": "python",
   "name": "python3"
  },
  "language_info": {
   "codemirror_mode": {
    "name": "ipython",
    "version": 3
   },
   "file_extension": ".py",
   "mimetype": "text/x-python",
   "name": "python",
   "nbconvert_exporter": "python",
   "pygments_lexer": "ipython3",
   "version": "3.10.12"
  }
 },
 "nbformat": 4,
 "nbformat_minor": 2
}
