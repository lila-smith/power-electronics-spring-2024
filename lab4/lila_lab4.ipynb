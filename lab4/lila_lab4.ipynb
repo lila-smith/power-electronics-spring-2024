{
 "cells": [
  {
   "cell_type": "markdown",
   "metadata": {},
   "source": [
    "# Prelab 4"
   ]
  },
  {
   "cell_type": "code",
   "execution_count": 4,
   "metadata": {},
   "outputs": [],
   "source": [
    "# Imports and setup\n",
    "from pint import UnitRegistry\n",
    "import math\n",
    "import numpy as np\n",
    "\n",
    "# Use pint\n",
    "units = UnitRegistry()\n",
    "units.default_format = \"~P\"\n",
    "\n",
    "# Define Tesla\n",
    "ureg = UnitRegistry()\n",
    "Q_ = ureg.Quantity\n",
    "ureg.define('Tesla = units.kilogram*units.second**(-2)*units.amp**(-1) = T')\n"
   ]
  },
  {
   "cell_type": "code",
   "execution_count": 17,
   "metadata": {},
   "outputs": [],
   "source": [
    "# Known values\n",
    "L_goal = 20*10**(-6) * units.henry\n",
    "B_max = 0.2 * units.tesla\n",
    "D_max = 0.5 # Duty Cycle Max\n",
    "I_pk = 10 * units.amp\n",
    "I_rms_cu = 10 * units.amp / (units.mm)**2 # rms\n",
    "\n",
    "Lg_inches = np.array([\n",
    "    0.002,\n",
    "    0.003,\n",
    "    0.005,\n",
    "    0.01,\n",
    "    0.015\n",
    "]) # inches\n",
    "\n",
    "Lg = Lg_inches*25.4*units.mm\n",
    "\n",
    "wires = {\n",
    "    0.82: 18,\n",
    "    0.52: 20,\n",
    "    0.33: 22,\n",
    "    0.20: 24 \n",
    "} # mm^2: awg\n",
    "\n",
    "u_o = 1.2566 * 10**(-6) # free space (we only need this value)"
   ]
  },
  {
   "cell_type": "code",
   "execution_count": 9,
   "metadata": {},
   "outputs": [
    {
     "name": "stdout",
     "output_type": "stream",
     "text": [
      "Min wire gauge: 20\n"
     ]
    }
   ],
   "source": [
    "# Current calculation and wire sizing\n",
    "I_rms = math.sqrt(D_max/3) * I_pk\n",
    "min_wire_area = I_rms/I_rms_cu\n",
    "wire_gauge=0\n",
    "for area in wires:\n",
    "    if area > min_wire_area:\n",
    "        wire_gauge = wires[area]\n",
    "        \n",
    "print(\"Min wire gauge:\", wire_gauge)"
   ]
  },
  {
   "cell_type": "code",
   "execution_count": 10,
   "metadata": {},
   "outputs": [
    {
     "name": "stdout",
     "output_type": "stream",
     "text": [
      "R: [3.48725767e-06 2.37084584e-06 1.47837252e-06 8.10978773e-07\n",
      " 5.90461972e-07]\n",
      "N: [2.3948205628454513 2.904446227385534 3.6780959784860303 4.966040470748853 5.819947025588554] H⁰⋅⁵\n"
     ]
    }
   ],
   "source": [
    "# 2 * outer area + inner area\n",
    "area_finder = lambda t: 2 * ((2*(7+t)*(10.65+t) - (7+t)*math.sqrt((9-t)**2 - (7+t)**2) - (9 - t)**2 * math.asin((7+t)/(9-t)))) + (np.pi*(8.8/2 + t)**2)\n",
    "reluctance_finder = lambda t: u_o*10**(-3)*area_finder(t)/t\n",
    "vfunc = np.vectorize(reluctance_finder)\n",
    "R = vfunc(Lg)\n",
    "\n",
    "N = np.sqrt(np.divide(L_goal,R))\n",
    "\n",
    "print(\"R:\", R)\n",
    "\n",
    "B = 11*I_rms*u_o\n",
    "\n",
    "print(\"N:\", N)\n",
    "# print(\"I_rms\", I_rms, \", B:\", B)\n",
    "\n",
    "# print(str(10**2/(20*10**(-6))))"
   ]
  }
 ],
 "metadata": {
  "kernelspec": {
   "display_name": "Python 3",
   "language": "python",
   "name": "python3"
  },
  "language_info": {
   "codemirror_mode": {
    "name": "ipython",
    "version": 3
   },
   "file_extension": ".py",
   "mimetype": "text/x-python",
   "name": "python",
   "nbconvert_exporter": "python",
   "pygments_lexer": "ipython3",
   "version": "3.10.12"
  }
 },
 "nbformat": 4,
 "nbformat_minor": 2
}
