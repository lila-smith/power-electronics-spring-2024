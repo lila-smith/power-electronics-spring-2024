{
 "cells": [
  {
   "cell_type": "markdown",
   "metadata": {},
   "source": [
    "# Prelab 4"
   ]
  },
  {
   "cell_type": "code",
   "execution_count": 2,
   "metadata": {},
   "outputs": [],
   "source": [
    "import sympy\n",
    "import math\n",
    "import numpy as np\n",
    "\n"
   ]
  },
  {
   "cell_type": "code",
   "execution_count": 48,
   "metadata": {},
   "outputs": [
    {
     "name": "stdout",
     "output_type": "stream",
     "text": [
      "4.14678e-09\n",
      "[1.28556760e-14 8.79656847e-15 5.55281887e-15 3.13063461e-15\n",
      " 2.33388922e-15] [5.07063625e-10 4.19441735e-10 3.33251223e-10 2.50225283e-10\n",
      " 2.16050421e-10]\n",
      "I_rms 4.08248290463863 , B: 1.862207430522712e-07\n",
      "5000000.0\n"
     ]
    }
   ],
   "source": [
    "L_goal = 20*10**(-6) # H \n",
    "B_max = 0.2 # Tesla\n",
    "D_max = 0.5 # Duty Cycle Max\n",
    "I_pk = 10 # A\n",
    "I_rms_cu = 10 # Arms/mm^2\n",
    "\n",
    "Lg_inches = np.array([\n",
    "    0.002,\n",
    "    0.003,\n",
    "    0.005,\n",
    "    0.01,\n",
    "    0.015\n",
    "]) # inches\n",
    "\n",
    "Lg = Lg_inches*25.4 # mm\n",
    "\n",
    "wires = np.array([\n",
    "    0.82, # 18 AWG\n",
    "    0.52,  # 20 AWG\n",
    "    0.33, # 22 AWG\n",
    "    0.20 # 24 AWG\n",
    "]) # mm^2\n",
    "\n",
    "u_f = 3300 * 10**(-6) # ferrite\n",
    "u_o = 1.2566 * 10**(-6) # free space\n",
    "u = u_f * u_o \n",
    "print(u)\n",
    "\n",
    "I_rms = math.sqrt(D_max/3) * I_pk\n",
    "\n",
    "area_finder = lambda t: 10**(-6)*u*4*(2*(7+t)*(10.65+t)-(7+t)*math.sqrt((9-t)**2 - (7+t)**2) - (9 - t)**2 * math.asin((7+t)/(9-t)))/(10**3*t)\n",
    "vfunc = np.vectorize(area_finder)\n",
    "R = vfunc(Lg)\n",
    "\n",
    "N = np.sqrt(np.multiply(L_goal,R))\n",
    "\n",
    "print(R, N)\n",
    "\n",
    "B = 11*I_rms*u\n",
    "\n",
    "print(\"I_rms\", I_rms, \", B:\", B)\n",
    "\n",
    "print(str(10**2/(20*10**(-6))))"
   ]
  }
 ],
 "metadata": {
  "kernelspec": {
   "display_name": "Python 3",
   "language": "python",
   "name": "python3"
  },
  "language_info": {
   "codemirror_mode": {
    "name": "ipython",
    "version": 3
   },
   "file_extension": ".py",
   "mimetype": "text/x-python",
   "name": "python",
   "nbconvert_exporter": "python",
   "pygments_lexer": "ipython3",
   "version": "3.10.12"
  }
 },
 "nbformat": 4,
 "nbformat_minor": 2
}
