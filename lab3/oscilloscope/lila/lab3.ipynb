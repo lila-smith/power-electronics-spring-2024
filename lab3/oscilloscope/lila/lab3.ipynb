{
 "cells": [
  {
   "cell_type": "markdown",
   "metadata": {},
   "source": [
    "### Lab 3\n",
    "Q1: Note the inductor number used.\n",
    "1. Q2: Use the measurements taken to determine the inductance value of the test inductor.\n",
    "\n",
    "2. Q3: Update your digital twin (PLECS model) with the inductance value. Make sure you submit your personal digital twin PLECS file \n",
    "with this lab report.\n",
    "\n",
    "3. Q4: Run simulations corresponding to the measurements taken during Task 3 and compare the waveforms (shape, amplitude, timing, duty cycle) of the shunt-voltage and drain voltage.\n",
    "\n",
    "4. Analyze the comparison and document your observations.\n",
    "\n",
    "    A. Q5: Are the simplifying assumptions made in our theoretical study of the buck converter valid?\n",
    "    \n",
    "    B. Q6: Does the measured peak-current and duty-cycle match the theoretical predictions?\n",
    "\n",
    "5. Use the measurements of Vgdr and Vgate taken during Task 4 to determine the gate current during turn-on and turn-off transitions.\n",
    "\n",
    "6. Q7: Plot the gate voltage and gate current during MOSFET turn-on and turn-off for output  voltages 4V, 7V and 9V.\n",
    "\n",
    "7. Q8: Are we respecting maximal allowable gate voltage for the MOSFET? Explain.\n",
    "\n",
    "8. Q9: Are we respecting the maximal allowable output current of the UC2844? Explain."
   ]
  }
 ],
 "metadata": {
  "language_info": {
   "name": "python"
  }
 },
 "nbformat": 4,
 "nbformat_minor": 2
}
