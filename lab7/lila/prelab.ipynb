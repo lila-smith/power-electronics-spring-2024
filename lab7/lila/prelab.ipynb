{
 "cells": [
  {
   "cell_type": "code",
   "execution_count": 43,
   "metadata": {},
   "outputs": [],
   "source": [
    "# %matplotlib widget\n",
    "# Imports and setup\n",
    "from pint import UnitRegistry\n",
    "import math\n",
    "import numpy as np \n",
    "import matplotlib.pyplot as plt\n",
    "import pandas as pd\n",
    "import scipy\n",
    "import sympy as sym\n",
    "\n",
    "# Use pint\n",
    "units = UnitRegistry()\n",
    "units.default_format = \"~P\"\n",
    "ureg = UnitRegistry()\n",
    "ureg.setup_matplotlib()\n",
    "Q_ = ureg.Quantity"
   ]
  },
  {
   "cell_type": "markdown",
   "metadata": {},
   "source": [
    "3.3 nF\n",
    "100 ohms"
   ]
  },
  {
   "cell_type": "code",
   "execution_count": 160,
   "metadata": {},
   "outputs": [
    {
     "name": "stdout",
     "output_type": "stream",
     "text": [
      "C = 1.0515505274124122 nF\n",
      "The snubber capacitance should be 3.154651582237236 nF, and the resistance should be 103.6753206201365 Ω\n",
      "The maximum powers dissipated by the snubber resistor will be 3.125141046702204 W and 1.968468787290378 W\n"
     ]
    }
   ],
   "source": [
    "wd = 1.18 * units.megahertz\n",
    "zeta_o = 0.00569\n",
    "L = 17.3 * units.microhenry # Leakage\n",
    "zeta_goal = 0.7\n",
    "\n",
    "C = (1 / (wd * 2 * math.pi))**2 / L\n",
    "print(\"C =\", C.to(\"nanofarad\"))\n",
    "\n",
    "Csb = 3 * C\n",
    "Rsb = 2*zeta_goal*np.sqrt(L/Csb)\n",
    "\n",
    "print(f\"The snubber capacitance should be {Csb.to('nanofarad')}, and the resistance should be {Rsb.to('ohm')}\")\n",
    "\n",
    "Vg = 18 * units.volt\n",
    "Vo = 10 * units.volt\n",
    "a = 0.7\n",
    "\n",
    "r_vg_power = Vg**2 / Rsb\n",
    "r_vo_power = (Vo / a)**2 / Rsb  \n",
    "\n",
    "print(f\"The maximum powers dissipated by the snubber resistor will be {r_vg_power.to('W')} and {r_vo_power.to('W')}\")"
   ]
  },
  {
   "cell_type": "markdown",
   "metadata": {},
   "source": [
    "680 pF\n",
    "62 Ohm"
   ]
  },
  {
   "cell_type": "code",
   "execution_count": 144,
   "metadata": {},
   "outputs": [
    {
     "name": "stdout",
     "output_type": "stream",
     "text": [
      "C = 0.25814972010073567 nF\n",
      "The snubber capacitance should be 645.3743002518393 pF, and the resistance should be 59.41678550007333 Ω\n",
      "The maximum powers dissipated by the snubber resistor will be 5.453004521754212 W and 3.4347471162472996 W\n"
     ]
    }
   ],
   "source": [
    "wd = 10.5 * units.megahertz\n",
    "zeta_o = 0.0207\n",
    "L = 0.89 * units.microhenry # Leakage\n",
    "zeta_goal = 0.8\n",
    "\n",
    "C = (1 / (wd * 2 * math.pi))**2 / L\n",
    "print(\"C =\", C.to(\"nanofarad\"))\n",
    "\n",
    "Csb = 2.5 * C\n",
    "Rsb = 2*zeta_goal*np.sqrt(L/Csb)\n",
    "\n",
    "\n",
    "print(f\"The snubber capacitance should be {Csb.to('picofarad')}, and the resistance should be {Rsb.to('ohm')}\")\n",
    "\n",
    "Vg = 18 * units.volt\n",
    "Vo = 10 * units.volt\n",
    "a = 0.7\n",
    "\n",
    "r_vg_power = Vg**2 / Rsb\n",
    "r_vo_power = (Vo / a)**2 / Rsb  \n",
    "\n",
    "print(f\"The maximum powers dissipated by the snubber resistor will be {r_vg_power.to('W')} and {r_vo_power.to('W')}\")"
   ]
  },
  {
   "cell_type": "code",
   "execution_count": 128,
   "metadata": {},
   "outputs": [
    {
     "data": {
      "text/html": [
       "10500000.0 1/s"
      ],
      "text/latex": [
       "$10500000.0\\ \\frac{1}{\\mathrm{s}}$"
      ],
      "text/plain": [
       "10500000.0 <Unit('1 / second')>"
      ]
     },
     "execution_count": 128,
     "metadata": {},
     "output_type": "execute_result"
    }
   ],
   "source": []
  },
  {
   "cell_type": "code",
   "execution_count": null,
   "metadata": {},
   "outputs": [],
   "source": []
  },
  {
   "cell_type": "code",
   "execution_count": null,
   "metadata": {},
   "outputs": [],
   "source": [
    "wd.to('1 / s')"
   ]
  },
  {
   "cell_type": "markdown",
   "metadata": {},
   "source": [
    "#### Clamp "
   ]
  },
  {
   "cell_type": "markdown",
   "metadata": {},
   "source": [
    "R = 1500 Ohms\n",
    "C = 0.1 uF"
   ]
  },
  {
   "cell_type": "code",
   "execution_count": 158,
   "metadata": {},
   "outputs": [
    {
     "name": "stdout",
     "output_type": "stream",
     "text": [
      "For a resistance of 1489.5460272342516 Ω, we can have a Vcp of 36.54545454545454 V \n",
      " with power of 0.896629055775963 W\n",
      "Capacitance: 88.64123871604485 nF\n"
     ]
    }
   ],
   "source": [
    "ipk = 5.04\n",
    "fs = 50e3\n",
    "Ts = 1/fs\n",
    "L = 0.86e-6\n",
    "Vo = 10\n",
    "Vg = 18\n",
    "Vmax = 60\n",
    "a = 0.70\n",
    "\n",
    "V = Vo / a\n",
    "# R = sym.Symbol('R')\n",
    "R = 1500\n",
    "# Vcp = sym.Symbol('Vcp')\n",
    "Vcp = Vmax/1.1 - Vg\n",
    "# Pcp = ipk**2/(2*Ts) * L * 1/(1-V/Vcp)\n",
    "# Vcp_num = sym.solve(Vcp**2/(ipk**2/(2*Ts) * L * 1/(1-V/Vcp)) - R, Vcp)\n",
    "P_avg = ipk**2/(2*Ts) * L * 1/(1-V/Vcp)\n",
    "R = Vcp**2 / P_avg\n",
    "C = 1/(R * 0.15) * (Ts - ipk*(L/(Vcp-V)))\n",
    "print(f\"For a resistance of {R * units.ohm}, we can have a Vcp of {Vcp * units.volt} \\n with power of {P_avg * units.watt}\")\n",
    "print(f\"Capacitance: {(C*units.farad).to_compact()}\")"
   ]
  },
  {
   "cell_type": "code",
   "execution_count": 87,
   "metadata": {},
   "outputs": [
    {
     "name": "stdout",
     "output_type": "stream",
     "text": [
      "Resistance of 1736.1111111111115 Ω\n",
      "Capacitance: 87.4541201932367 nF\n"
     ]
    }
   ],
   "source": [
    "Pcp = 1\n",
    "Vcp = 50/1.2\n",
    "print(f\"Resistance of {Vcp**2/Pcp * units.ohms}\")\n",
    "Rcp = 1500\n",
    "C = 1/(Rcp * 0.15) * (Ts - ipk*(L/(Vcp-V)))\n"
   ]
  }
 ],
 "metadata": {
  "kernelspec": {
   "display_name": "Python 3",
   "language": "python",
   "name": "python3"
  },
  "language_info": {
   "codemirror_mode": {
    "name": "ipython",
    "version": 3
   },
   "file_extension": ".py",
   "mimetype": "text/x-python",
   "name": "python",
   "nbconvert_exporter": "python",
   "pygments_lexer": "ipython3",
   "version": "3.10.12"
  }
 },
 "nbformat": 4,
 "nbformat_minor": 2
}
